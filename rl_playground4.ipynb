{
  "cells": [
    {
      "cell_type": "markdown",
      "metadata": {
        "id": "aOSs-24eonWc"
      },
      "source": [
        "GPRL book chapter 8 - Introduction to Value-Based Deep Reinforcement Learning"
      ]
    },
    {
      "cell_type": "markdown",
      "source": [
        "# Preparation"
      ],
      "metadata": {
        "id": "iIKO9kDPq7Fb"
      }
    },
    {
      "cell_type": "code",
      "execution_count": 4,
      "metadata": {
        "vscode": {
          "languageId": "plaintext"
        },
        "id": "tvGhikWBonWd"
      },
      "outputs": [],
      "source": [
        "import warnings ; warnings.filterwarnings('ignore')\n",
        "import os\n",
        "\n",
        "import torch\n",
        "import torch.nn as nn\n",
        "import torch.nn.functional as F\n",
        "import torch.optim as optim\n",
        "\n",
        "import numpy as np\n",
        "from IPython.display import display\n",
        "from collections import namedtuple, deque\n",
        "import matplotlib.pyplot as plt\n",
        "import matplotlib.pylab as pylab\n",
        "from itertools import cycle, count\n",
        "from textwrap import wrap\n",
        "\n",
        "import matplotlib\n",
        "import subprocess\n",
        "import os.path\n",
        "import tempfile\n",
        "import random\n",
        "import base64\n",
        "import pprint\n",
        "import glob\n",
        "import time\n",
        "import json\n",
        "import sys\n",
        "import gym\n",
        "import io\n",
        "import os\n",
        "import gc\n",
        "\n",
        "from gym import wrappers\n",
        "from subprocess import check_output\n",
        "from IPython.display import HTML\n",
        "\n",
        "LEAVE_PRINT_EVERY_N_SECS = 60\n",
        "ERASE_LINE = '\\x1b[2K'\n",
        "EPS = 1e-6\n",
        "BEEP = lambda: os.system(\"printf '\\a'\")\n",
        "RESULTS_DIR = os.path.join('..', 'results')\n",
        "SEEDS = (12, 34, 56, 78, 90)\n",
        "\n",
        "%matplotlib inline"
      ]
    },
    {
      "cell_type": "code",
      "source": [
        "plt.style.use('fivethirtyeight')\n",
        "params = {\n",
        "  'figure.figsize': (15, 8),\n",
        "  'font.size': 24,\n",
        "  'legend.fontsize': 20,\n",
        "  'axes.titlesize': 28,\n",
        "  'axes.labelsize': 24,\n",
        "  'xtick.labelsize': 20,\n",
        "  'ytick.labelsize': 20\n",
        "}\n",
        "pylab.rcParams.update(params)\n",
        "np.set_printoptions(suppress=True)"
      ],
      "metadata": {
        "id": "ESRKHpCmphAT"
      },
      "execution_count": 7,
      "outputs": []
    },
    {
      "cell_type": "code",
      "source": [
        "torch.cuda.is_available()"
      ],
      "metadata": {
        "id": "ZxwFxqFGp0cy",
        "outputId": "53716164-bc8e-4d46-9fe0-c4a03651c5b4",
        "colab": {
          "base_uri": "https://localhost:8080/"
        }
      },
      "execution_count": 8,
      "outputs": [
        {
          "output_type": "execute_result",
          "data": {
            "text/plain": [
              "False"
            ]
          },
          "metadata": {},
          "execution_count": 8
        }
      ]
    },
    {
      "cell_type": "markdown",
      "source": [
        "# Utils"
      ],
      "metadata": {
        "id": "aYnRQJUFq90a"
      }
    },
    {
      "cell_type": "code",
      "source": [
        "def get_make_env_fn(**kargs):\n",
        "  def make_env_fn(env_name,\n",
        "                  seed=None,\n",
        "                  render=None,\n",
        "                  record=False,\n",
        "                  unwrapped=False,\n",
        "                  monitor_mode=None, # record video\n",
        "                  inner_wrappers=None,\n",
        "                  outer_wrappers=None):\n",
        "    tmp_dir = tempfile.mkdtemp()\n",
        "    env = None\n",
        "    if render:\n",
        "      try:\n",
        "        env = gym.make(env_name, render=render)\n",
        "      except:\n",
        "        pass\n",
        "    if env is None: env = gym.make(env_name)\n",
        "    if seed is not None: env.seed(seed)\n",
        "    env = env.unwrapped if unwrapped else env\n",
        "    if inner_wrappers:\n",
        "      for wrapper in inner_wrappers:\n",
        "        env = wrapper(env)\n",
        "\n",
        "    env = wrappers.Monitor(env, tmp_dir, force=True, # override temp file\n",
        "                           mode=monitor_mode,\n",
        "                           video_callable=lambda e_idx: record\n",
        "                           ) if monitor_mode else env\n",
        "    if outer_wrappers:\n",
        "      for wrapper in outer_wrappers:\n",
        "        env = wrapper(env)\n",
        "    return env\n",
        "  return get_make_env_fn, kargs"
      ],
      "metadata": {
        "id": "v-UdvyDQq_6C",
        "outputId": "e8c8e66b-ffdf-4eb6-b5b3-8711ddcab960",
        "colab": {
          "base_uri": "https://localhost:8080/"
        }
      },
      "execution_count": 9,
      "outputs": [
        {
          "output_type": "stream",
          "name": "stderr",
          "text": [
            "/usr/local/lib/python3.10/dist-packages/ipykernel/ipkernel.py:283: DeprecationWarning: `should_run_async` will not call `transform_cell` automatically in the future. Please pass the result to `transformed_cell` argument and any exception that happen during thetransform in `preprocessing_exc_tuple` in IPython 7.17 and above.\n",
            "  and should_run_async(code)\n"
          ]
        }
      ]
    },
    {
      "cell_type": "code",
      "source": [
        "def get_videws_html(env_videos, title, max_n_videos=5):\n",
        "  '''\n",
        "  env_videos - list of videos\n",
        "  title - heading/title of the html heading\n",
        "  max_n_videos - max number of videos; can be larger or smaller tha len of the env_videos list\n",
        "  '''\n",
        "  videos = np.array(env_videos)\n",
        "  if len(videos) ==0:\n",
        "    return\n",
        "  n_videos = max(1, min(max_n_videos, len(videos)))\n",
        "  idxs = np.linspace(0, len(videos)-1, n_videos).astype(int) if n_videos>1 else [-1,]\n",
        "  videos = videos[idxs, ...]\n",
        "\n",
        "  strm = f'<h2>{title}</h2>'\n",
        "  for video_path, meta_path in videos:\n",
        ""
      ],
      "metadata": {
        "id": "1x5fSIE8xN-d"
      },
      "execution_count": null,
      "outputs": []
    }
  ],
  "metadata": {
    "language_info": {
      "name": "python"
    },
    "colab": {
      "provenance": []
    },
    "kernelspec": {
      "name": "python3",
      "display_name": "Python 3"
    }
  },
  "nbformat": 4,
  "nbformat_minor": 0
}